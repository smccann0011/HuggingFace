{
  "nbformat": 4,
  "nbformat_minor": 0,
  "metadata": {
    "colab": {
      "provenance": [],
      "authorship_tag": "ABX9TyNqa/wtzugqq1yFGAj+yOny",
      "include_colab_link": true
    },
    "kernelspec": {
      "name": "python3",
      "display_name": "Python 3"
    },
    "language_info": {
      "name": "python"
    }
  },
  "cells": [
    {
      "cell_type": "markdown",
      "metadata": {
        "id": "view-in-github",
        "colab_type": "text"
      },
      "source": [
        "<a href=\"https://colab.research.google.com/github/smccann0011/HuggingFace/blob/main/VixalChatbot.ipynb\" target=\"_parent\"><img src=\"https://colab.research.google.com/assets/colab-badge.svg\" alt=\"Open In Colab\"/></a>"
      ]
    },
    {
      "cell_type": "code",
      "execution_count": null,
      "metadata": {
        "id": "s40sYseltT7d"
      },
      "outputs": [],
      "source": [
        "#!pip install pyTelegramBotAPI\n",
        "#!pip install wikipedia\n",
        "#!pip install transformers"
      ]
    },
    {
      "cell_type": "code",
      "source": [
        "import telebot\n",
        "import wikipedia\n",
        "from transformers import pipeline\n",
        "\n",
        "TOKEN = '5441663452:AAEnyCUoh8moKbOZCkuAerG2TgfKhXEPb74'\n",
        "bot = telebot.TeleBot(TOKEN, parse_mode=None)\n",
        "\n",
        "questionBot = pipeline(task=\"question-answering\", model='distilbert-base-cased-distilled-squad')\n",
        "\n",
        "status = {}\n",
        "subjects = {}\n",
        "questions = {}\n",
        "\n",
        "@bot.message_handler(commands=['start'])\n",
        "def send_welcome(message):\n",
        "  status[message.chat.id] = 0\n",
        "  bot.reply_to(message, \"Hello from CoLab. Tell me about a subject you want to talk about.\")\n",
        "  status[message.chat.id] = 1\n",
        "\n",
        "@bot.message_handler(commands=['help'])\n",
        "def send_welcome(message):\n",
        "\tbot.reply_to(message, \"How can I help?\")\n",
        "\n",
        "@bot.message_handler()\n",
        "def handle_text_doc(message):\n",
        "\n",
        "  print(str(message.message_id) + \" \" + str(message.chat.id) + \" \" + str(status[message.chat.id])+\" \"+message.text)\n",
        "\n",
        "  if (status[message.chat.id] == 0):\n",
        "    response = \"Tell me about a subject you want to talk about.\"\n",
        "    status[message.chat.id] = 1\n",
        "\n",
        "  elif (status[message.chat.id] == 1):\n",
        "    subjects[message.chat.id] = message.text\n",
        "    response = \"OK. Now ask me a question about '\"+subjects[message.chat.id]+\"'\"\n",
        "    status[message.chat.id] = 2\n",
        "\n",
        "  elif (status[message.chat.id] == 2):\n",
        "    questions[message.chat.id] = message.text\n",
        "\n",
        "    # Fetch the information about the subject from Wikipedia\n",
        "    context = wikipedia.summary(subjects[message.chat.id])\n",
        "    print(context)\n",
        "\n",
        "    # Answer the question using the context\n",
        "    result = questionBot(question=message.text, context=context)\n",
        "    print(result)\n",
        "\n",
        "    response = result['answer']\n",
        "    status[message.chat.id] = 0\n",
        "\n",
        "  bot.reply_to(message, response)\n",
        "\n",
        "  return"
      ],
      "metadata": {
        "id": "LvoTQqXDthQN"
      },
      "execution_count": null,
      "outputs": []
    },
    {
      "cell_type": "code",
      "source": [
        "bot.infinity_polling()"
      ],
      "metadata": {
        "colab": {
          "base_uri": "https://localhost:8080/"
        },
        "id": "36CbZ_hrtxX-",
        "outputId": "6cf8707b-f298-4098-a470-0efe4f4bab64"
      },
      "execution_count": null,
      "outputs": [
        {
          "output_type": "stream",
          "name": "stdout",
          "text": [
            "158 5795940383 1 Stocks\n",
            "160 5795940383 2 What is a stock\n",
            "In finance, stock (also capital stock) consists of the shares of which ownership of a corporation or company is divided. (Especially in American English, the word \"stocks\" is also used to refer to shares.) A single share of the stock means fractional ownership of the corporation in proportion to the total number of shares. This typically entitles the shareholder (stockholder) to that fraction of the company's earnings, proceeds from liquidation of assets (after discharge of all senior claims such as secured and unsecured debt), or voting power, often dividing these up in proportion to the amount of money each stockholder has invested.  Not all stock is necessarily equal, as certain classes of stock may be issued for example without voting rights, with enhanced voting rights, or with a certain priority to receive profits or liquidation proceeds before or after other classes of shareholders.\n",
            "Stock can be bought and sold privately or on stock exchanges, and such transactions are typically heavily regulated by governments to prevent fraud, protect investors, and benefit the larger economy. The stocks are deposited with the depositories in the electronic format also known as Demat account. As new shares are issued by a company, the ownership and rights of existing shareholders are diluted in return for cash to sustain or grow the business. Companies can also buy back stock, which often lets investors recoup the initial investment plus capital gains from subsequent rises in stock price.  Stock options issued by many companies as part of employee compensation do not represent ownership, but represent the right to buy ownership at a future time at a specified price.  This would represent a windfall to the employees if the option is exercised when the market price is higher than the promised price, since if they immediately sold the stock they would keep the difference (minus taxes).\n",
            "Stocks are a function of capitalism, and therefore the stock market operates by the price mechanism: a stock cannot be classified as an investment unless it pays a dividend – the standard dividend yield being 2% – otherwise, it must be classified as a speculation (gambling). However, if one decides to reinvest the dividends, it is not speculation, and assuming for ceteris paribus, this will lead to an exponential growth of \n",
            "  \n",
            "    \n",
            "      \n",
            "        F\n",
            "        V\n",
            "        =\n",
            "        P\n",
            "        ∗\n",
            "        (\n",
            "        1\n",
            "        +\n",
            "        r\n",
            "        \n",
            "          /\n",
            "        \n",
            "        m\n",
            "        )\n",
            "        ∗\n",
            "        m\n",
            "        ∗\n",
            "        t\n",
            "      \n",
            "    \n",
            "    {\\displaystyle FV=P*(1+r/m)*m*t}\n",
            "  , where P is the initial investment, r is the yield, m is dividends per year, and t is number of years. A \"dividend king\" is a stock which has had an increasing or constant dividend yield for over 50 successive years.\n",
            "{'score': 0.002395878778770566, 'start': 51, 'end': 119, 'answer': 'the shares of which ownership of a corporation or company is divided'}\n",
            "162 5795940383 0 What is a dividend king\n",
            "164 5795940383 1 stocks\n",
            "166 5795940383 2 What is a dividend king\n",
            "In finance, stock (also capital stock) consists of the shares of which ownership of a corporation or company is divided. (Especially in American English, the word \"stocks\" is also used to refer to shares.) A single share of the stock means fractional ownership of the corporation in proportion to the total number of shares. This typically entitles the shareholder (stockholder) to that fraction of the company's earnings, proceeds from liquidation of assets (after discharge of all senior claims such as secured and unsecured debt), or voting power, often dividing these up in proportion to the amount of money each stockholder has invested.  Not all stock is necessarily equal, as certain classes of stock may be issued for example without voting rights, with enhanced voting rights, or with a certain priority to receive profits or liquidation proceeds before or after other classes of shareholders.\n",
            "Stock can be bought and sold privately or on stock exchanges, and such transactions are typically heavily regulated by governments to prevent fraud, protect investors, and benefit the larger economy. The stocks are deposited with the depositories in the electronic format also known as Demat account. As new shares are issued by a company, the ownership and rights of existing shareholders are diluted in return for cash to sustain or grow the business. Companies can also buy back stock, which often lets investors recoup the initial investment plus capital gains from subsequent rises in stock price.  Stock options issued by many companies as part of employee compensation do not represent ownership, but represent the right to buy ownership at a future time at a specified price.  This would represent a windfall to the employees if the option is exercised when the market price is higher than the promised price, since if they immediately sold the stock they would keep the difference (minus taxes).\n",
            "Stocks are a function of capitalism, and therefore the stock market operates by the price mechanism: a stock cannot be classified as an investment unless it pays a dividend – the standard dividend yield being 2% – otherwise, it must be classified as a speculation (gambling). However, if one decides to reinvest the dividends, it is not speculation, and assuming for ceteris paribus, this will lead to an exponential growth of \n",
            "  \n",
            "    \n",
            "      \n",
            "        F\n",
            "        V\n",
            "        =\n",
            "        P\n",
            "        ∗\n",
            "        (\n",
            "        1\n",
            "        +\n",
            "        r\n",
            "        \n",
            "          /\n",
            "        \n",
            "        m\n",
            "        )\n",
            "        ∗\n",
            "        m\n",
            "        ∗\n",
            "        t\n",
            "      \n",
            "    \n",
            "    {\\displaystyle FV=P*(1+r/m)*m*t}\n",
            "  , where P is the initial investment, r is the yield, m is dividends per year, and t is number of years. A \"dividend king\" is a stock which has had an increasing or constant dividend yield for over 50 successive years.\n",
            "{'score': 0.07019917666912079, 'start': 2707, 'end': 2769, 'answer': 'a stock which has had an increasing or constant dividend yield'}\n"
          ]
        },
        {
          "output_type": "stream",
          "name": "stderr",
          "text": [
            "2022-10-09 03:11:54,882 (__init__.py:884 MainThread) ERROR - TeleBot: \"Infinity polling: polling exited\"\n",
            "ERROR:TeleBot:Infinity polling: polling exited\n",
            "2022-10-09 03:11:54,887 (__init__.py:886 MainThread) ERROR - TeleBot: \"Break infinity polling\"\n",
            "ERROR:TeleBot:Break infinity polling\n"
          ]
        }
      ]
    },
    {
      "cell_type": "code",
      "source": [],
      "metadata": {
        "id": "ENFfnbYWuAjY"
      },
      "execution_count": null,
      "outputs": []
    }
  ]
}