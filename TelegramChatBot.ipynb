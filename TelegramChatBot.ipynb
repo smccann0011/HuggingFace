{
  "nbformat": 4,
  "nbformat_minor": 0,
  "metadata": {
    "colab": {
      "provenance": [],
      "authorship_tag": "ABX9TyMtil+eyCcEvZ5gLsFGJ+xr",
      "include_colab_link": true
    },
    "kernelspec": {
      "name": "python3",
      "display_name": "Python 3"
    },
    "language_info": {
      "name": "python"
    }
  },
  "cells": [
    {
      "cell_type": "markdown",
      "metadata": {
        "id": "view-in-github",
        "colab_type": "text"
      },
      "source": [
        "<a href=\"https://colab.research.google.com/github/smccann0011/HuggingFace/blob/main/TelegramChatBot.ipynb\" target=\"_parent\"><img src=\"https://colab.research.google.com/assets/colab-badge.svg\" alt=\"Open In Colab\"/></a>"
      ]
    },
    {
      "cell_type": "code",
      "execution_count": 46,
      "metadata": {
        "id": "DQsiGUGJ_0JF"
      },
      "outputs": [],
      "source": [
        "#!pip install huggingface"
      ]
    },
    {
      "cell_type": "code",
      "source": [
        "#!pip install transformers"
      ],
      "metadata": {
        "id": "vYNb5LPKAbjD"
      },
      "execution_count": 47,
      "outputs": []
    },
    {
      "cell_type": "markdown",
      "source": [
        "### Part 1"
      ],
      "metadata": {
        "id": "TmkNV2rtnk0z"
      }
    },
    {
      "cell_type": "code",
      "source": [
        "from transformers import pipeline"
      ],
      "metadata": {
        "id": "66vcgbEB_5AZ"
      },
      "execution_count": 4,
      "outputs": []
    },
    {
      "cell_type": "code",
      "source": [
        "questionBot = pipeline(task=\"question-answering\", model='distilbert-base-cased-distilled-squad')\n",
        "context = r\"Pink Floyd was an English rock band formed in London in 1965.\"\n",
        "questionBot(question=\"When was Pink Floyd formed?\", context=context)"
      ],
      "metadata": {
        "colab": {
          "base_uri": "https://localhost:8080/"
        },
        "id": "TaTWUuV-__mN",
        "outputId": "f002c6fd-ba9b-4a38-904a-68625ad8a2a1"
      },
      "execution_count": 44,
      "outputs": [
        {
          "output_type": "execute_result",
          "data": {
            "text/plain": [
              "{'score': 0.9848850965499878, 'start': 56, 'end': 60, 'answer': '1965'}"
            ]
          },
          "metadata": {},
          "execution_count": 44
        }
      ]
    },
    {
      "cell_type": "markdown",
      "source": [
        "### Part 2"
      ],
      "metadata": {
        "id": "fkSiVaqqnoXI"
      }
    },
    {
      "cell_type": "code",
      "source": [
        "questionBot2 = pipeline(task=\"question-answering\", model='ktrapeznikov/biobert_v1.1_pubmed_squad_v2',  tokenizer='ktrapeznikov/biobert_v1.1_pubmed_squad_v2')\n",
        "context = r\"\"\"\n",
        "Symptoms of COVID-19 are variable, but often include fever, cough, fatigue, breathing difficulties, and loss of \n",
        "smell and taste. Symptoms may begin one to fourteen days after exposure to the virus. At least a third of people who are infected \n",
        "do not develop noticeable symptoms.[9] Of those people who develop noticeable symptoms enough to be classed as patients, \n",
        "most (81%) develop mild to moderate symptoms (up to mild pneumonia), while 14% develop severe symptoms (dyspnea, hypoxia, \n",
        "or more than 50% lung involvement on imaging), and 5% suffer critical symptoms (respiratory failure, shock, or multiorgan \n",
        "dysfunction).[10] Older people are more likely to have severe symptoms. Some people continue to experience a range of \n",
        "effects—known as long COVID—for months after recovery, and damage to organs has been observed.[11] Multi-year studies are \n",
        "underway to further investigate the long-term effects of the disease.\n",
        "\"\"\"\n",
        "questionBot2(question=\"What are the symptoms of COVID-19 ?\", context=context)"
      ],
      "metadata": {
        "colab": {
          "base_uri": "https://localhost:8080/"
        },
        "id": "EnsadJ7uCds8",
        "outputId": "8986e5d7-6509-4ff7-9bc6-84a58e738231"
      },
      "execution_count": 45,
      "outputs": [
        {
          "output_type": "execute_result",
          "data": {
            "text/plain": [
              "{'score': 0.9045338034629822,\n",
              " 'start': 54,\n",
              " 'end': 129,\n",
              " 'answer': 'fever, cough, fatigue, breathing difficulties, and loss of \\nsmell and taste'}"
            ]
          },
          "metadata": {},
          "execution_count": 45
        }
      ]
    },
    {
      "cell_type": "markdown",
      "source": [
        "### Part 3"
      ],
      "metadata": {
        "id": "haAQ9Nr_ntLR"
      }
    },
    {
      "cell_type": "code",
      "source": [
        "!pip install pyTelegramBotAPI"
      ],
      "metadata": {
        "colab": {
          "base_uri": "https://localhost:8080/"
        },
        "id": "O7dqD0kAnrfD",
        "outputId": "2a27b93a-81af-4196-dd99-d34feb60d7ec"
      },
      "execution_count": 49,
      "outputs": [
        {
          "output_type": "stream",
          "name": "stdout",
          "text": [
            "Looking in indexes: https://pypi.org/simple, https://us-python.pkg.dev/colab-wheels/public/simple/\n",
            "Collecting pyTelegramBotAPI\n",
            "  Downloading pyTelegramBotAPI-4.7.0.tar.gz (210 kB)\n",
            "\u001b[K     |████████████████████████████████| 210 kB 5.4 MB/s \n",
            "\u001b[?25hRequirement already satisfied: requests in /usr/local/lib/python3.7/dist-packages (from pyTelegramBotAPI) (2.23.0)\n",
            "Requirement already satisfied: idna<3,>=2.5 in /usr/local/lib/python3.7/dist-packages (from requests->pyTelegramBotAPI) (2.10)\n",
            "Requirement already satisfied: certifi>=2017.4.17 in /usr/local/lib/python3.7/dist-packages (from requests->pyTelegramBotAPI) (2022.6.15)\n",
            "Requirement already satisfied: chardet<4,>=3.0.2 in /usr/local/lib/python3.7/dist-packages (from requests->pyTelegramBotAPI) (3.0.4)\n",
            "Requirement already satisfied: urllib3!=1.25.0,!=1.25.1,<1.26,>=1.21.1 in /usr/local/lib/python3.7/dist-packages (from requests->pyTelegramBotAPI) (1.24.3)\n",
            "Building wheels for collected packages: pyTelegramBotAPI\n",
            "  Building wheel for pyTelegramBotAPI (setup.py) ... \u001b[?25l\u001b[?25hdone\n",
            "  Created wheel for pyTelegramBotAPI: filename=pyTelegramBotAPI-4.7.0-py3-none-any.whl size=192826 sha256=566587373072ab6dfbaabed6d8fe43855e821aa43cd985b20eb38b321afebda6\n",
            "  Stored in directory: /root/.cache/pip/wheels/ba/13/da/8abf941f7cf9f993cde6118a56a7c24e12ed791507acd8ea39\n",
            "Successfully built pyTelegramBotAPI\n",
            "Installing collected packages: pyTelegramBotAPI\n",
            "Successfully installed pyTelegramBotAPI-4.7.0\n"
          ]
        }
      ]
    },
    {
      "cell_type": "code",
      "source": [
        "import telebot\n",
        "TOKEN = '5441663452:AAEnyCUoh8moKbOZCkuAerG2TgfKhXEPb74'\n",
        "bot = telebot.TeleBot(TOKEN, parse_mode=None)"
      ],
      "metadata": {
        "id": "EEpKjBR8es0W"
      },
      "execution_count": 55,
      "outputs": []
    },
    {
      "cell_type": "code",
      "source": [
        "@bot.message_handler(commands=['start', 'help'])\n",
        "def send_welcome(message):\n",
        "\tbot.reply_to(message, \"Howdy, how are you doing?\")\n",
        " \n",
        "@bot.message_handler(func=lambda m: True)\n",
        "def echo_all(message):\n",
        "\tbot.reply_to(message, message.text)"
      ],
      "metadata": {
        "id": "TrP9LiIxhNJM"
      },
      "execution_count": 56,
      "outputs": []
    },
    {
      "cell_type": "code",
      "source": [
        "bot.infinity_polling()"
      ],
      "metadata": {
        "colab": {
          "base_uri": "https://localhost:8080/"
        },
        "id": "yKuk4Bl6h3sI",
        "outputId": "d9ac03f7-b474-4550-e12c-ebb93e0e8c26"
      },
      "execution_count": 57,
      "outputs": [
        {
          "output_type": "stream",
          "name": "stderr",
          "text": [
            "2022-09-04 04:10:57,111 (__init__.py:884 MainThread) ERROR - TeleBot: \"Infinity polling: polling exited\"\n",
            "ERROR:TeleBot:Infinity polling: polling exited\n",
            "2022-09-04 04:10:57,115 (__init__.py:886 MainThread) ERROR - TeleBot: \"Break infinity polling\"\n",
            "ERROR:TeleBot:Break infinity polling\n"
          ]
        }
      ]
    },
    {
      "cell_type": "code",
      "source": [],
      "metadata": {
        "id": "T-5LMzNgq_8f"
      },
      "execution_count": null,
      "outputs": []
    }
  ]
}