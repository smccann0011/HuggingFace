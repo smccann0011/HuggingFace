{
  "nbformat": 4,
  "nbformat_minor": 0,
  "metadata": {
    "colab": {
      "provenance": [],
      "collapsed_sections": [],
      "authorship_tag": "ABX9TyMa9fWnzLnBzfOrMdK/aSrp",
      "include_colab_link": true
    },
    "kernelspec": {
      "name": "python3",
      "display_name": "Python 3"
    },
    "language_info": {
      "name": "python"
    }
  },
  "cells": [
    {
      "cell_type": "markdown",
      "metadata": {
        "id": "view-in-github",
        "colab_type": "text"
      },
      "source": [
        "<a href=\"https://colab.research.google.com/github/smccann0011/HuggingFace/blob/main/TelegramChatBot.ipynb\" target=\"_parent\"><img src=\"https://colab.research.google.com/assets/colab-badge.svg\" alt=\"Open In Colab\"/></a>"
      ]
    },
    {
      "cell_type": "code",
      "execution_count": 46,
      "metadata": {
        "id": "DQsiGUGJ_0JF"
      },
      "outputs": [],
      "source": [
        "#!pip install huggingface\n",
        "#!pip install transformers"
      ]
    },
    {
      "cell_type": "markdown",
      "source": [
        "### Part 1"
      ],
      "metadata": {
        "id": "TmkNV2rtnk0z"
      }
    },
    {
      "cell_type": "code",
      "source": [
        "#from transformers import pipeline"
      ],
      "metadata": {
        "id": "66vcgbEB_5AZ"
      },
      "execution_count": 4,
      "outputs": []
    },
    {
      "cell_type": "code",
      "source": [
        "#questionBot = pipeline(task=\"question-answering\", model='distilbert-base-cased-distilled-squad')\n",
        "#context = r\"Pink Floyd was an English rock band formed in London in 1965.\"\n",
        "#questionBot(question=\"When was Pink Floyd formed?\", context=context)"
      ],
      "metadata": {
        "id": "TaTWUuV-__mN"
      },
      "execution_count": 6,
      "outputs": []
    },
    {
      "cell_type": "markdown",
      "source": [
        "### Part 2"
      ],
      "metadata": {
        "id": "fkSiVaqqnoXI"
      }
    },
    {
      "cell_type": "code",
      "source": [
        "#questionBot2 = pipeline(task=\"question-answering\", model='ktrapeznikov/biobert_v1.1_pubmed_squad_v2',  tokenizer='ktrapeznikov/biobert_v1.1_pubmed_squad_v2')\n",
        "#context = r\"\"\"\n",
        "#Symptoms of COVID-19 are variable, but often include fever, cough, fatigue, breathing difficulties, and loss of \n",
        "#smell and taste. Symptoms may begin one to fourteen days after exposure to the virus. At least a third of people who are infected \n",
        "#do not develop noticeable symptoms.[9] Of those people who develop noticeable symptoms enough to be classed as patients, \n",
        "#most (81%) develop mild to moderate symptoms (up to mild pneumonia), while 14% develop severe symptoms (dyspnea, hypoxia, \n",
        "#or more than 50% lung involvement on imaging), and 5% suffer critical symptoms (respiratory failure, shock, or multiorgan \n",
        "#dysfunction).[10] Older people are more likely to have severe symptoms. Some people continue to experience a range of \n",
        "#effects—known as long COVID—for months after recovery, and damage to organs has been observed.[11] Multi-year studies are \n",
        "#underway to further investigate the long-term effects of the disease.\n",
        "#\"\"\"\n",
        "#questionBot2(question=\"What are the symptoms of COVID-19 ?\", context=context)"
      ],
      "metadata": {
        "id": "EnsadJ7uCds8"
      },
      "execution_count": 7,
      "outputs": []
    },
    {
      "cell_type": "markdown",
      "source": [
        "### Part 3"
      ],
      "metadata": {
        "id": "haAQ9Nr_ntLR"
      }
    },
    {
      "cell_type": "code",
      "source": [
        "#!pip install pyTelegramBotAPI"
      ],
      "metadata": {
        "id": "O7dqD0kAnrfD"
      },
      "execution_count": 9,
      "outputs": []
    },
    {
      "cell_type": "code",
      "source": [
        "#import telebot\n",
        "#TOKEN = '5441663452:AAEnyCUoh8moKbOZCkuAerG2TgfKhXEPb74'\n",
        "#bot = telebot.TeleBot(TOKEN, parse_mode=None)"
      ],
      "metadata": {
        "id": "EEpKjBR8es0W"
      },
      "execution_count": 10,
      "outputs": []
    },
    {
      "cell_type": "code",
      "source": [
        "#@bot.message_handler(commands=['start', 'help'])\n",
        "#def send_welcome(message):\n",
        "#\tbot.reply_to(message, \"Howdy, how are you doing?\")\n",
        "# \n",
        "#@bot.message_handler(func=lambda m: True)\n",
        "#def echo_all(message):\n",
        "#\tbot.reply_to(message, message.text)"
      ],
      "metadata": {
        "id": "TrP9LiIxhNJM"
      },
      "execution_count": 26,
      "outputs": []
    },
    {
      "cell_type": "code",
      "source": [
        "#bot.infinity_polling()"
      ],
      "metadata": {
        "id": "yKuk4Bl6h3sI"
      },
      "execution_count": 27,
      "outputs": []
    },
    {
      "cell_type": "markdown",
      "source": [
        "### Part 4"
      ],
      "metadata": {
        "id": "k27F9eWUMEGU"
      }
    },
    {
      "cell_type": "code",
      "source": [
        "#!pip install pyTelegramBotAPI\n",
        "#!pip install wikipedia\n",
        "!pip install transformers"
      ],
      "metadata": {
        "colab": {
          "base_uri": "https://localhost:8080/"
        },
        "id": "T-5LMzNgq_8f",
        "outputId": "be36dcd7-44e8-42b4-e848-c88e73ab2de6"
      },
      "execution_count": 14,
      "outputs": [
        {
          "output_type": "stream",
          "name": "stdout",
          "text": [
            "Looking in indexes: https://pypi.org/simple, https://us-python.pkg.dev/colab-wheels/public/simple/\n",
            "Collecting transformers\n",
            "  Downloading transformers-4.21.2-py3-none-any.whl (4.7 MB)\n",
            "\u001b[K     |████████████████████████████████| 4.7 MB 5.2 MB/s \n",
            "\u001b[?25hRequirement already satisfied: requests in /usr/local/lib/python3.7/dist-packages (from transformers) (2.23.0)\n",
            "Collecting huggingface-hub<1.0,>=0.1.0\n",
            "  Downloading huggingface_hub-0.9.1-py3-none-any.whl (120 kB)\n",
            "\u001b[K     |████████████████████████████████| 120 kB 65.6 MB/s \n",
            "\u001b[?25hRequirement already satisfied: regex!=2019.12.17 in /usr/local/lib/python3.7/dist-packages (from transformers) (2022.6.2)\n",
            "Requirement already satisfied: packaging>=20.0 in /usr/local/lib/python3.7/dist-packages (from transformers) (21.3)\n",
            "Requirement already satisfied: tqdm>=4.27 in /usr/local/lib/python3.7/dist-packages (from transformers) (4.64.0)\n",
            "Requirement already satisfied: importlib-metadata in /usr/local/lib/python3.7/dist-packages (from transformers) (4.12.0)\n",
            "Requirement already satisfied: filelock in /usr/local/lib/python3.7/dist-packages (from transformers) (3.8.0)\n",
            "Collecting tokenizers!=0.11.3,<0.13,>=0.11.1\n",
            "  Downloading tokenizers-0.12.1-cp37-cp37m-manylinux_2_12_x86_64.manylinux2010_x86_64.whl (6.6 MB)\n",
            "\u001b[K     |████████████████████████████████| 6.6 MB 53.4 MB/s \n",
            "\u001b[?25hRequirement already satisfied: numpy>=1.17 in /usr/local/lib/python3.7/dist-packages (from transformers) (1.21.6)\n",
            "Requirement already satisfied: pyyaml>=5.1 in /usr/local/lib/python3.7/dist-packages (from transformers) (6.0)\n",
            "Requirement already satisfied: typing-extensions>=3.7.4.3 in /usr/local/lib/python3.7/dist-packages (from huggingface-hub<1.0,>=0.1.0->transformers) (4.1.1)\n",
            "Requirement already satisfied: pyparsing!=3.0.5,>=2.0.2 in /usr/local/lib/python3.7/dist-packages (from packaging>=20.0->transformers) (3.0.9)\n",
            "Requirement already satisfied: zipp>=0.5 in /usr/local/lib/python3.7/dist-packages (from importlib-metadata->transformers) (3.8.1)\n",
            "Requirement already satisfied: urllib3!=1.25.0,!=1.25.1,<1.26,>=1.21.1 in /usr/local/lib/python3.7/dist-packages (from requests->transformers) (1.24.3)\n",
            "Requirement already satisfied: idna<3,>=2.5 in /usr/local/lib/python3.7/dist-packages (from requests->transformers) (2.10)\n",
            "Requirement already satisfied: certifi>=2017.4.17 in /usr/local/lib/python3.7/dist-packages (from requests->transformers) (2022.6.15)\n",
            "Requirement already satisfied: chardet<4,>=3.0.2 in /usr/local/lib/python3.7/dist-packages (from requests->transformers) (3.0.4)\n",
            "Installing collected packages: tokenizers, huggingface-hub, transformers\n",
            "Successfully installed huggingface-hub-0.9.1 tokenizers-0.12.1 transformers-4.21.2\n"
          ]
        }
      ]
    },
    {
      "cell_type": "code",
      "source": [
        "import telebot\n",
        "import wikipedia\n",
        "from transformers import pipeline\n",
        "\n",
        "TOKEN = '5441663452:AAEnyCUoh8moKbOZCkuAerG2TgfKhXEPb74'\n",
        "bot = telebot.TeleBot(TOKEN, parse_mode=None)\n",
        "\n",
        "questionBot = pipeline(task=\"question-answering\", model='distilbert-base-cased-distilled-squad')\n",
        "\n",
        "status = {}\n",
        "subjects = {}\n",
        "questions = {}\n",
        "\n",
        "@bot.message_handler(commands=['start'])\n",
        "def send_welcome(message):\n",
        "  status[message.chat.id] = 0\n",
        "  bot.reply_to(message, \"Tell me about a subject you want to talk about.\")\n",
        "  status[message.chat.id] = 1\n",
        "\n",
        "@bot.message_handler(commands=['help'])\n",
        "def send_welcome(message):\n",
        "\tbot.reply_to(message, \"How can I help?\")\n",
        "\n",
        "@bot.message_handler()\n",
        "def handle_text_doc(message):\n",
        "\n",
        "  print(str(message.message_id) + \" \" + str(message.chat.id) + \" \" + str(status[message.chat.id])+\" \"+message.text)\n",
        "\n",
        "  if (status[message.chat.id] == 0):\n",
        "    response = \"Tell me about a subject you want to talk about.\"\n",
        "    status[message.chat.id] = 1\n",
        "\n",
        "  elif (status[message.chat.id] == 1):\n",
        "    subjects[message.chat.id] = message.text\n",
        "    response = \"OK. Now ask me a question about '\"+subjects[message.chat.id]+\"'\"\n",
        "    status[message.chat.id] = 2\n",
        "\n",
        "  elif (status[message.chat.id] == 2):\n",
        "    questions[message.chat.id] = message.text\n",
        "\n",
        "    # Fetch the information about the subject from Wikipedia\n",
        "    context = wikipedia.summary(subjects[message.chat.id])\n",
        "    print(context)\n",
        "\n",
        "    # Answer the question using the context\n",
        "    result = questionBot(question=message.text, context=context)\n",
        "    print(result)\n",
        "\n",
        "    response = result['answer']\n",
        "    status[message.chat.id] = 0\n",
        "\n",
        "  bot.reply_to(message, response)\n",
        "\n",
        "  return"
      ],
      "metadata": {
        "id": "hb7HEva7MRvv"
      },
      "execution_count": 19,
      "outputs": []
    },
    {
      "cell_type": "code",
      "source": [
        "bot.infinity_polling()"
      ],
      "metadata": {
        "colab": {
          "base_uri": "https://localhost:8080/"
        },
        "id": "jD3Qyn1oMnfA",
        "outputId": "968b7bc3-a7ea-4fef-b105-706dd50e9a24"
      },
      "execution_count": 20,
      "outputs": [
        {
          "output_type": "stream",
          "name": "stdout",
          "text": [
            "148 5795940383 1 Databases\n",
            "150 5795940383 2 What is a database?\n",
            "In computing, a database is an organized collection of data stored and accessed electronically. Small databases can be stored on a file system, while large databases are hosted on computer clusters or cloud storage. The design of databases spans formal techniques and practical considerations, including data modeling, efficient data representation and storage, query languages, security and privacy of sensitive data, and distributed computing issues, including supporting concurrent access and fault tolerance.\n",
            "A database management system (DBMS) is the software that interacts with end users, applications, and the database itself to capture and analyze the data. The DBMS software additionally encompasses the core facilities provided to administer the database. The sum total of the database, the DBMS and the associated applications can be referred to as a database system. Often the term \"database\" is also used loosely to refer to any of the DBMS, the database system or an application associated with the database.\n",
            "Computer scientists may classify database management systems according to the database models that they support. Relational databases became dominant in the 1980s. These model data as rows and columns in a series of tables, and the vast majority use SQL for writing and querying data. In the 2000s, non-relational databases became popular, collectively referred to as NoSQL, because they use different query languages.\n",
            "{'score': 0.6401371955871582, 'start': 28, 'end': 94, 'answer': 'an organized collection of data stored and accessed electronically'}\n"
          ]
        },
        {
          "output_type": "stream",
          "name": "stderr",
          "text": [
            "2022-09-05 03:18:43,293 (__init__.py:884 MainThread) ERROR - TeleBot: \"Infinity polling: polling exited\"\n",
            "ERROR:TeleBot:Infinity polling: polling exited\n",
            "2022-09-05 03:18:43,298 (__init__.py:886 MainThread) ERROR - TeleBot: \"Break infinity polling\"\n",
            "ERROR:TeleBot:Break infinity polling\n"
          ]
        }
      ]
    },
    {
      "cell_type": "code",
      "source": [],
      "metadata": {
        "id": "wB4IhwStMrU7"
      },
      "execution_count": null,
      "outputs": []
    }
  ]
}